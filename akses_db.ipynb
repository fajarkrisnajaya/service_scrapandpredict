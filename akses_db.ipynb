{
 "cells": [
  {
   "cell_type": "code",
   "execution_count": 3,
   "metadata": {},
   "outputs": [
    {
     "name": "stdout",
     "output_type": "stream",
     "text": [
      "Connection to the database established successfully.\n",
      "Database version: ('PostgreSQL 16.6 on x86_64-pc-linux-gnu, compiled by Debian clang version 12.0.1, 64-bit',)\n",
      "Database connection closed.\n"
     ]
    }
   ],
   "source": [
    "import psycopg2\n",
    "\n",
    "# Database connection parameters\n",
    "hostname = '104.154.175.45'\n",
    "database = 'multimatics-backend'\n",
    "username = 'tukam'\n",
    "password = 'tukam'  # Replace with your actual password\n",
    "\n",
    "# Establishing the connection\n",
    "try:\n",
    "    connection = psycopg2.connect(\n",
    "        host=hostname,\n",
    "        database=database,\n",
    "        user=username,\n",
    "        password=password\n",
    "    )\n",
    "    cursor = connection.cursor()\n",
    "    print(\"Connection to the database established successfully.\")\n",
    "\n",
    "    # Executing a simple query\n",
    "    cursor.execute(\"SELECT version();\")\n",
    "    db_version = cursor.fetchone()\n",
    "    print(f\"Database version: {db_version}\")\n",
    "\n",
    "except Exception as error:\n",
    "    print(f\"Error connecting to the database: {error}\")\n",
    "\n",
    "finally:\n",
    "    if connection:\n",
    "        cursor.close()\n",
    "        connection.close()\n",
    "        print(\"Database connection closed.\")"
   ]
  },
  {
   "cell_type": "code",
   "execution_count": 1,
   "metadata": {},
   "outputs": [
    {
     "name": "stdout",
     "output_type": "stream",
     "text": [
      "Error connecting to the database: connection to server at \"104.154.175.45\", port 5432 failed: server closed the connection unexpectedly\n",
      "\tThis probably means the server terminated abnormally\n",
      "\tbefore or while processing the request.\n",
      "\n"
     ]
    },
    {
     "ename": "NameError",
     "evalue": "name 'connection' is not defined",
     "output_type": "error",
     "traceback": [
      "\u001b[1;31m---------------------------------------------------------------------------\u001b[0m",
      "\u001b[1;31mNameError\u001b[0m                                 Traceback (most recent call last)",
      "\u001b[1;32m~\\AppData\\Local\\Temp\\ipykernel_6696\\2988576872.py\u001b[0m in \u001b[0;36m<module>\u001b[1;34m\u001b[0m\n\u001b[0;32m     32\u001b[0m \u001b[1;33m\u001b[0m\u001b[0m\n\u001b[0;32m     33\u001b[0m \u001b[1;32mfinally\u001b[0m\u001b[1;33m:\u001b[0m\u001b[1;33m\u001b[0m\u001b[1;33m\u001b[0m\u001b[0m\n\u001b[1;32m---> 34\u001b[1;33m     \u001b[1;32mif\u001b[0m \u001b[0mconnection\u001b[0m\u001b[1;33m:\u001b[0m\u001b[1;33m\u001b[0m\u001b[1;33m\u001b[0m\u001b[0m\n\u001b[0m\u001b[0;32m     35\u001b[0m         \u001b[0mcursor\u001b[0m\u001b[1;33m.\u001b[0m\u001b[0mclose\u001b[0m\u001b[1;33m(\u001b[0m\u001b[1;33m)\u001b[0m\u001b[1;33m\u001b[0m\u001b[1;33m\u001b[0m\u001b[0m\n\u001b[0;32m     36\u001b[0m         \u001b[0mconnection\u001b[0m\u001b[1;33m.\u001b[0m\u001b[0mclose\u001b[0m\u001b[1;33m(\u001b[0m\u001b[1;33m)\u001b[0m\u001b[1;33m\u001b[0m\u001b[1;33m\u001b[0m\u001b[0m\n",
      "\u001b[1;31mNameError\u001b[0m: name 'connection' is not defined"
     ]
    }
   ],
   "source": [
    "import psycopg2\n",
    "import pandas as pd\n",
    "\n",
    "# Database connection parameters\n",
    "hostname = '104.154.175.45'\n",
    "database = 'multimatics-backend'\n",
    "username = 'tukam'\n",
    "password = 'tukam'  # Replace with your actual password\n",
    "\n",
    "# Establishing the connection\n",
    "try:\n",
    "    connection = psycopg2.connect(\n",
    "        host=hostname,\n",
    "        database=database,\n",
    "        user=username,\n",
    "        password=password\n",
    "    )\n",
    "    cursor = connection.cursor()\n",
    "    print(\"Connection to the database established successfully.\")\n",
    "\n",
    "    # Executing a query to select data from the byond_review table\n",
    "    query = \"SELECT * FROM byond_review limit 1;\"\n",
    "    cursor.execute(query)\n",
    "    records = cursor.fetchall()\n",
    "\n",
    "    # Converting the records to a pandas DataFrame for better readability\n",
    "    df = pd.DataFrame(records, columns=[desc[0] for desc in cursor.description])\n",
    "    print(df)\n",
    "\n",
    "except Exception as error:\n",
    "    print(f\"Error connecting to the database: {error}\")\n",
    "\n",
    "finally:\n",
    "    if connection:\n",
    "        cursor.close()\n",
    "        connection.close()\n",
    "        print(\"Database connection closed.\")"
   ]
  }
 ],
 "metadata": {
  "kernelspec": {
   "display_name": "base",
   "language": "python",
   "name": "python3"
  },
  "language_info": {
   "codemirror_mode": {
    "name": "ipython",
    "version": 3
   },
   "file_extension": ".py",
   "mimetype": "text/x-python",
   "name": "python",
   "nbconvert_exporter": "python",
   "pygments_lexer": "ipython3",
   "version": "3.9.13"
  }
 },
 "nbformat": 4,
 "nbformat_minor": 2
}
